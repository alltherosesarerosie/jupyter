{
 "cells": [
  {
   "cell_type": "code",
   "execution_count": 32,
   "outputs": [],
   "source": [
    "#импортируем нужные нам библиотеки \n",
    "import numpy as np\n",
    "import matplotlib.pyplot as plt\n",
    "import pandas as pd\n",
    "import seaborn as sns\n",
    "#импортируем  класс для выполнения линейной регрессии\n",
    "from sklearn.linear_model import LinearRegression\n",
    "from sklearn.model_selection import train_test_split\n",
    "#библиотека для облегчения изучения и использования библиотеки scikit-learn\n",
    "import mglearn "
   ],
   "metadata": {
    "collapsed": false,
    "ExecuteTime": {
     "end_time": "2023-11-08T09:41:16.139115100Z",
     "start_time": "2023-11-08T09:41:16.123559700Z"
    }
   },
   "id": "9671c906d26ed931"
  },
  {
   "cell_type": "code",
   "execution_count": 33,
   "outputs": [],
   "source": [
    "from sklearn.datasets import load_linnerud"
   ],
   "metadata": {
    "collapsed": false,
    "ExecuteTime": {
     "end_time": "2023-11-08T09:41:18.486817300Z",
     "start_time": "2023-11-08T09:41:18.477932900Z"
    }
   },
   "id": "initial_id"
  },
  {
   "cell_type": "code",
   "execution_count": 34,
   "outputs": [],
   "source": [
    "# загружаем датасет load_linnerud в переменную linnerud_data\n",
    "linnerud_data = load_linnerud()"
   ],
   "metadata": {
    "collapsed": false,
    "ExecuteTime": {
     "end_time": "2023-11-08T09:41:20.186071500Z",
     "start_time": "2023-11-08T09:41:20.167494200Z"
    }
   },
   "id": "f4402806ee87d0e4"
  },
  {
   "cell_type": "code",
   "execution_count": 5,
   "outputs": [
    {
     "name": "stdout",
     "output_type": "stream",
     "text": [
      "dict_keys(['data', 'feature_names', 'target', 'target_names', 'frame', 'DESCR', 'data_filename', 'target_filename', 'data_module'])\n"
     ]
    }
   ],
   "source": [
    "# выводим список ключей\n",
    "print(linnerud_data.keys())"
   ],
   "metadata": {
    "collapsed": false,
    "ExecuteTime": {
     "end_time": "2023-11-08T07:30:16.399154500Z",
     "start_time": "2023-11-08T07:30:16.367278800Z"
    }
   },
   "id": "c9e5a2685d9924f3"
  },
  {
   "cell_type": "code",
   "execution_count": 6,
   "outputs": [
    {
     "name": "stdout",
     "output_type": "stream",
     "text": [
      ".. _linnerrud_dataset:\n",
      "\n",
      "Linnerrud dataset\n",
      "-----------------\n",
      "\n",
      "**Data Set Characteristics:**\n",
      "\n",
      "    :Number of Instances: 20\n",
      "    :Number of Attributes: 3\n",
      "    :Missing Attribute Values: None\n",
      "\n",
      "The Linnerud dataset is a multi-output regression dataset. It consists of three\n",
      "exercise (data) and three physiological (target) variables collected from\n",
      "twenty middle-aged men in a fitness club:\n",
      "\n",
      "- *physiological* - CSV containing 20 observations on 3 physiological variables:\n",
      "   Weight, Waist and Pulse.\n",
      "- *exercise* - CSV containing 20 observations on 3 exercise variables:\n",
      "   Chins, Situps and Jumps.\n",
      "\n",
      "|details-start|\n",
      "**References**\n",
      "|details-split|\n",
      "\n",
      "* Tenenhaus, M. (1998). La regression PLS: theorie et pratique. Paris:\n",
      "  Editions Technic.\n",
      "\n",
      "|details-end|\n"
     ]
    }
   ],
   "source": [
    "#выводим информацию о датасете\n",
    "print(linnerud_data.DESCR)"
   ],
   "metadata": {
    "collapsed": false,
    "ExecuteTime": {
     "end_time": "2023-11-08T07:30:31.204200900Z",
     "start_time": "2023-11-08T07:30:31.188491800Z"
    }
   },
   "id": "248e56be64daace8"
  },
  {
   "cell_type": "code",
   "execution_count": 11,
   "outputs": [
    {
     "name": "stdout",
     "output_type": "stream",
     "text": [
      "['Chins', 'Situps', 'Jumps']\n"
     ]
    }
   ],
   "source": [
    "#Имена признаков:\n",
    "#Кол-во подтягиваний \n",
    "#Кол-во подъемов туловища\n",
    "#Кол-во прыжков\n",
    "print(linnerud_data['feature_names'])"
   ],
   "metadata": {
    "collapsed": false,
    "ExecuteTime": {
     "end_time": "2023-11-08T07:38:20.061019900Z",
     "start_time": "2023-11-08T07:38:20.045577Z"
    }
   },
   "id": "2e33ad89fdd63f7a"
  },
  {
   "cell_type": "code",
   "execution_count": 12,
   "outputs": [
    {
     "name": "stdout",
     "output_type": "stream",
     "text": [
      "['Weight', 'Waist', 'Pulse']\n"
     ]
    }
   ],
   "source": [
    "#Имена целевых переменных:\n",
    "#Вес\n",
    "#Обхват талии\n",
    "#Пульс\n",
    "print(linnerud_data['target_names'])"
   ],
   "metadata": {
    "collapsed": false,
    "ExecuteTime": {
     "end_time": "2023-11-08T07:39:29.227967700Z",
     "start_time": "2023-11-08T07:39:29.211998100Z"
    }
   },
   "id": "7f1a2662a5e148c3"
  },
  {
   "cell_type": "code",
   "execution_count": 13,
   "outputs": [
    {
     "name": "stdout",
     "output_type": "stream",
     "text": [
      "форма массива X: (20, 3)\n"
     ]
    }
   ],
   "source": [
    "# 20 - количество пациентов в наборе данных.\n",
    "# 3 -  количество признаков.\n",
    "X, y = linnerud_data.data, linnerud_data.target\n",
    "print (\"форма массива X: {}\" .format (X. shape))"
   ],
   "metadata": {
    "collapsed": false,
    "ExecuteTime": {
     "end_time": "2023-11-08T07:40:55.468211200Z",
     "start_time": "2023-11-08T07:40:55.436458600Z"
    }
   },
   "id": "91cd12bfc3162cea"
  },
  {
   "cell_type": "code",
   "execution_count": 16,
   "outputs": [
    {
     "data": {
      "text/plain": "   Chins  Situps  Jumps  target_weight  target_waist  target_pulse\n0    5.0   162.0   60.0          191.0          36.0          50.0\n1    2.0   110.0   60.0          189.0          37.0          52.0\n2   12.0   101.0  101.0          193.0          38.0          58.0\n3   12.0   105.0   37.0          162.0          35.0          62.0\n4   13.0   155.0   58.0          189.0          35.0          46.0",
      "text/html": "<div>\n<style scoped>\n    .dataframe tbody tr th:only-of-type {\n        vertical-align: middle;\n    }\n\n    .dataframe tbody tr th {\n        vertical-align: top;\n    }\n\n    .dataframe thead th {\n        text-align: right;\n    }\n</style>\n<table border=\"1\" class=\"dataframe\">\n  <thead>\n    <tr style=\"text-align: right;\">\n      <th></th>\n      <th>Chins</th>\n      <th>Situps</th>\n      <th>Jumps</th>\n      <th>target_weight</th>\n      <th>target_waist</th>\n      <th>target_pulse</th>\n    </tr>\n  </thead>\n  <tbody>\n    <tr>\n      <th>0</th>\n      <td>5.0</td>\n      <td>162.0</td>\n      <td>60.0</td>\n      <td>191.0</td>\n      <td>36.0</td>\n      <td>50.0</td>\n    </tr>\n    <tr>\n      <th>1</th>\n      <td>2.0</td>\n      <td>110.0</td>\n      <td>60.0</td>\n      <td>189.0</td>\n      <td>37.0</td>\n      <td>52.0</td>\n    </tr>\n    <tr>\n      <th>2</th>\n      <td>12.0</td>\n      <td>101.0</td>\n      <td>101.0</td>\n      <td>193.0</td>\n      <td>38.0</td>\n      <td>58.0</td>\n    </tr>\n    <tr>\n      <th>3</th>\n      <td>12.0</td>\n      <td>105.0</td>\n      <td>37.0</td>\n      <td>162.0</td>\n      <td>35.0</td>\n      <td>62.0</td>\n    </tr>\n    <tr>\n      <th>4</th>\n      <td>13.0</td>\n      <td>155.0</td>\n      <td>58.0</td>\n      <td>189.0</td>\n      <td>35.0</td>\n      <td>46.0</td>\n    </tr>\n  </tbody>\n</table>\n</div>"
     },
     "execution_count": 16,
     "metadata": {},
     "output_type": "execute_result"
    }
   ],
   "source": [
    "#создали объект DataFrame из данных датасета \n",
    "#используя команду head() выводим первые нескольких, чтобы увидеть, как данные выглядят.\n",
    "# Добавляем по одной целевые переменные \n",
    "linnerud_df = pd.DataFrame(data=linnerud_data.data, columns=linnerud_data.feature_names)\n",
    "linnerud_df['target_weight'] = linnerud_data.target[:, 0] \n",
    "linnerud_df['target_waist'] = linnerud_data.target[:, 1]  \n",
    "linnerud_df['target_pulse'] = linnerud_data.target[:, 2]  \n",
    "\n",
    "linnerud_df.head()"
   ],
   "metadata": {
    "collapsed": false,
    "ExecuteTime": {
     "end_time": "2023-11-08T07:43:31.796296500Z",
     "start_time": "2023-11-08T07:43:31.749575500Z"
    }
   },
   "id": "3696f5539a951bef"
  },
  {
   "cell_type": "code",
   "execution_count": 17,
   "outputs": [
    {
     "name": "stdout",
     "output_type": "stream",
     "text": [
      "Chins              5.0\n",
      "Situps           162.0\n",
      "Jumps             60.0\n",
      "target_weight    191.0\n",
      "target_waist      36.0\n",
      "target_pulse      50.0\n",
      "Name: 0, dtype: float64\n"
     ]
    }
   ],
   "source": [
    "#так же можно вывести данные в таком виде\n",
    "print(linnerud_df.iloc[0])"
   ],
   "metadata": {
    "collapsed": false,
    "ExecuteTime": {
     "end_time": "2023-11-08T07:46:48.903449900Z",
     "start_time": "2023-11-08T07:46:48.872046800Z"
    }
   },
   "id": "d2be9cf0e2ccb6ba"
  },
  {
   "cell_type": "code",
   "execution_count": 18,
   "outputs": [
    {
     "data": {
      "text/plain": "Chins            0\nSitups           0\nJumps            0\ntarget_weight    0\ntarget_waist     0\ntarget_pulse     0\ndtype: int64"
     },
     "execution_count": 18,
     "metadata": {},
     "output_type": "execute_result"
    }
   ],
   "source": [
    "#провреяем количесво пропущенных значений, чтобы позже мы могли работать с данными\n",
    "#результат равен нулю для всех столбцов, это означает, что в данных нет пропущенных значений, и данные полные\n",
    "linnerud_df.isnull().sum()"
   ],
   "metadata": {
    "collapsed": false,
    "ExecuteTime": {
     "end_time": "2023-11-08T07:47:18.472026700Z",
     "start_time": "2023-11-08T07:47:18.412792300Z"
    }
   },
   "id": "848537bc674dfb62"
  },
  {
   "cell_type": "code",
   "execution_count": 25,
   "outputs": [
    {
     "data": {
      "text/plain": "<Figure size 750x750 with 12 Axes>",
      "image/png": "[encoded data removed]"
     },
     "metadata": {},
     "output_type": "display_data"
    }
   ],
   "source": [
    "#так как данный датасет имеет многомерные целевые переменные,визуализация матрицы рассеяния была задачей сложной.\n",
    "#по этой причине мы создали альтернативную диагрумму,где можно можно посмотреть график с парами переменных и увидеть их взаимосвязь\n",
    "\n",
    "sns.pairplot(linnerud_df)\n",
    "plt.show()\n"
   ],
   "metadata": {
    "collapsed": false,
    "ExecuteTime": {
     "end_time": "2023-11-08T07:54:30.497810700Z",
     "start_time": "2023-11-08T07:54:27.714175400Z"
    }
   },
   "id": "a81a2a0edc5f959b"
  },
  {
   "cell_type": "markdown",
   "source": [
    "Для нашего датасета Linnerrud, представляющий собой многомерную регрессию, метод KNeighborsRegressor не подходит. По это причине мы переходим к регрессии"
   ],
   "metadata": {
    "collapsed": false
   },
   "id": "f7fd50f211e7d526"
  },
  {
   "cell_type": "code",
   "execution_count": 28,
   "outputs": [
    {
     "name": "stdout",
     "output_type": "stream",
     "text": [
      "Коэффициенты модели: [[-2.20870477 -0.19794006  0.14152393]\n",
      " [-0.28363824 -0.03849608  0.03054474]\n",
      " [ 0.07445964  0.00820161  0.01367533]]\n",
      "Оценка на обучающем наборе: 0.37\n",
      "Оценка на тестовом наборе: -1.21\n"
     ]
    }
   ],
   "source": [
    "#Множественная линейная регрессия:\n",
    "# Выберем признаки (exercise) и целевые переменные (physiological)\n",
    "# Разбиваем данные на обучающий и тестовый наборы\n",
    "# Создаем и обучаем модель множественной линейной регрессии\n",
    "# Выводим коэффициенты модели и оценки\n",
    "\n",
    "from sklearn.linear_model import LinearRegression\n",
    "from sklearn.model_selection import train_test_split\n",
    "X = linnerud_data.data\n",
    "y = linnerud_data.target\n",
    "\n",
    "\n",
    "X_train, X_test, y_train, y_test = train_test_split(X, y, test_size=0.2, random_state=0)\n",
    "\n",
    "model = LinearRegression()\n",
    "model.fit(X_train, y_train)\n",
    "\n",
    "print(\"Коэффициенты модели: {}\".format(model.coef_))\n",
    "print(\"Оценка на обучающем наборе: {:.2f}\".format(model.score(X_train, y_train)))\n",
    "print(\"Оценка на тестовом наборе: {:.2f}\".format(model.score(X_test, y_test)))\n",
    "\n"
   ],
   "metadata": {
    "collapsed": false,
    "ExecuteTime": {
     "end_time": "2023-11-08T08:10:39.144553900Z",
     "start_time": "2023-11-08T08:10:39.112795300Z"
    }
   },
   "id": "d5146f0ee80726ed"
  },
  {
   "cell_type": "code",
   "execution_count": 31,
   "outputs": [
    {
     "name": "stdout",
     "output_type": "stream",
     "text": [
      "Коэффициенты модели: [[-2.20870477 -0.19794006  0.14152393]\n",
      " [-0.28363824 -0.03849608  0.03054474]\n",
      " [ 0.07445964  0.00820161  0.01367533]]\n",
      "Оценка на обучающем наборе: 0.37\n",
      "Оценка на тестовом наборе: -1.21\n"
     ]
    }
   ],
   "source": [
    "#Линейные модели регрессии для  датасет Linnerrud\n",
    "# Загружаем данные\n",
    "# Разбиваем данные на обучающий и тестовый наборы\n",
    "# Создаем и обучаем модель линейной регрессии\n",
    "# Выводим результата\n",
    "X = linnerud_data.data\n",
    "y = linnerud_data.target\n",
    "X_train, X_test, y_train, y_test = train_test_split(X, y, test_size=0.2, random_state=0)\n",
    "\n",
    "model = LinearRegression()\n",
    "model.fit(X_train, y_train)\n",
    "\n",
    "print(\"Коэффициенты модели: {}\".format(model.coef_))\n",
    "print(\"Оценка на обучающем наборе: {:.2f}\".format(model.score(X_train, y_train)))\n",
    "print(\"Оценка на тестовом наборе: {:.2f}\".format(model.score(X_test, y_test)))\n"
   ],
   "metadata": {
    "collapsed": false,
    "ExecuteTime": {
     "end_time": "2023-11-08T09:37:59.841789300Z",
     "start_time": "2023-11-08T09:37:59.827185600Z"
    }
   },
   "id": "fb74a05c186a40fb"
  },
  {
   "cell_type": "code",
   "execution_count": 38,
   "outputs": [
    {
     "name": "stdout",
     "output_type": "stream",
     "text": [
      "Коэффициенты Ridge: [[-2.19750655 -0.19836128  0.14131926]\n",
      " [-0.28220168 -0.03854924  0.03051747]\n",
      " [ 0.07408403  0.00821626  0.01368135]]\n",
      "Оценка на обучающем наборе: 0.37\n",
      "Оценка на тестовом наборе: -1.20\n"
     ]
    }
   ],
   "source": [
    "#гребневая регрессия\n",
    "#делим данные на обучающий и тестовый наборы\n",
    "# создали объект модели Ridge\n",
    "# Обучили\n",
    "# Вывели результат\n",
    "\n",
    "from sklearn.linear_model import Ridge\n",
    "from sklearn.model_selection import train_test_split\n",
    "\n",
    "X, y = linnerud_data.data, linnerud_data.target\n",
    "X_train, X_test, y_train, y_test = train_test_split(X, y, test_size=0.2, random_state=0)\n",
    "ridge = Ridge(alpha=1.0) \n",
    "ridge.fit(X_train, y_train)\n",
    "print(\"Коэффициенты Ridge: {}\".format(ridge.coef_))\n",
    "print(\"Оценка на обучающем наборе: {:.2f}\".format(ridge.score(X_train, y_train)))\n",
    "print(\"Оценка на тестовом наборе: {:.2f}\".format(ridge.score(X_test, y_test)))\n"
   ],
   "metadata": {
    "collapsed": false,
    "ExecuteTime": {
     "end_time": "2023-11-08T09:43:46.578769400Z",
     "start_time": "2023-11-08T09:43:46.519353700Z"
    }
   },
   "id": "8fa06f85011231da"
  },
  {
   "cell_type": "code",
   "execution_count": 40,
   "outputs": [
    {
     "name": "stdout",
     "output_type": "stream",
     "text": [
      "Коэффициенты Lasso: [[-2.12867343 -0.19994931  0.13888867]\n",
      " [-0.20365804 -0.04049051  0.02789933]\n",
      " [ 0.          0.01099885  0.01468573]]\n",
      "Оценка на обучающем наборе: 0.37\n",
      "Оценка на тестовом наборе: -1.06\n"
     ]
    }
   ],
   "source": [
    "#Lasso регрессии\n",
    "#делим данные на обучающий и тестовый наборы\n",
    "# создали объект модели Lasso\n",
    "# Обучили\n",
    "# Вывели результат\n",
    "\n",
    "from sklearn.linear_model import Lasso\n",
    "from sklearn.model_selection import train_test_split\n",
    "X, y = linnerud_data.data, linnerud_data.target\n",
    "X_train, X_test, y_train, y_test = train_test_split(X, y, test_size=0.2, random_state=0)\n",
    "lasso = Lasso(alpha=1.0)  \n",
    "lasso.fit(X_train, y_train)\n",
    "\n",
    "print(\"Коэффициенты Lasso: {}\".format(lasso.coef_))\n",
    "print(\"Оценка на обучающем наборе: {:.2f}\".format(lasso.score(X_train, y_train)))\n",
    "print(\"Оценка на тестовом наборе: {:.2f}\".format(lasso.score(X_test, y_test)))\n"
   ],
   "metadata": {
    "collapsed": false,
    "ExecuteTime": {
     "end_time": "2023-11-08T09:44:52.052769800Z",
     "start_time": "2023-11-08T09:44:51.989925Z"
    }
   },
   "id": "41e294f72e0f7278"
  },
  {
   "cell_type": "markdown",
   "source": [
    "Работа с датасетом Linnerrud представляет собой задачу мульти-регрессии, где требуется предсказать три физиологических параметра (вес, объем талии и пульс) на основе трех упражнений (подтягивания, скручивания и прыжков). В данном контексте были проведены следующие шаги:\n",
    "\n",
    "1. Загрузка данных: Датасет Linnerrud содержит информацию о 20 мужчинах в фитнес-клубе. Для анализа используется шесть переменных - три физиологических и три переменных, связанных с упражнениями.\n",
    "\n",
    "2. Предобработка данных: Данные в датасете были загружены и преобразованы в формат удобный для анализа с использованием библиотек pandas и numpy.\n",
    "\n",
    "3. Визуализация данных: Исследование данных началось с визуализации, чтобы понять связи между переменными. Визуализации включали в себя создание диаграмм рассеяния и графиков корреляции.\n",
    "\n",
    "4. Линейные модели регрессии: Были построены линейные модели регрессии (линейная регрессия, гребневая регрессия, лассо регрессия) для предсказания физиологических параметров на основе данных об упражнениях. Модели позволяют предсказать значения целевых переменных на основе данных об упражнениях.\n",
    "\n",
    "5. Выводы: В ходе анализа данных Linnerrud были построены и оценены линейные модели регрессии, которые могут быть использованы для предсказания физиологических параметров на основе данных об упражнениях. Какие-то модели могут оказаться более подходящими, в зависимости от конкретной задачи и критериев оценки.\n",
    "\n",
    "Эта работа может помочь лучше понять взаимосвязь между физиологическими параметрами и упражнениями, а также предсказать значения физиологических параметров на основе упражнений, что может быть полезно в области физиотерапии, спортивной медицины и тренировок."
   ],
   "metadata": {
    "collapsed": false
   },
   "id": "2b43d21c7bd549bf"
  }
 ],
 "metadata": {
  "kernelspec": {
   "display_name": "Python 3",
   "language": "python",
   "name": "python3"
  },
  "language_info": {
   "codemirror_mode": {
    "name": "ipython",
    "version": 2
   },
   "file_extension": ".py",
   "mimetype": "text/x-python",
   "name": "python",
   "nbconvert_exporter": "python",
   "pygments_lexer": "ipython2",
   "version": "2.7.6"
  }
 },
 "nbformat": 4,
 "nbformat_minor": 5
}
