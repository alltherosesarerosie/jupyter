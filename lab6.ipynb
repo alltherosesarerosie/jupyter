{
 "cells": [
  {
   "cell_type": "markdown",
   "source": [
    "\n",
    "1. Импортируем все необходимые библиотеки\n",
    "2. Загружаем датасет и присваиваем его переменной data.\n",
    "3. Разделяем данные на обучающие и тестовые наборы(X_train, X_test, y_train, y_test)"
   ],
   "metadata": {
    "collapsed": false
   },
   "id": "c36d972ece23ae09"
  },
  {
   "cell_type": "code",
   "execution_count": 22,
   "outputs": [],
   "source": [
    "from sklearn.datasets import load_breast_cancer\n",
    "from sklearn.model_selection import cross_val_score, GridSearchCV, train_test_split\n",
    "from sklearn.preprocessing import StandardScaler\n",
    "from sklearn.metrics import accuracy_score, classification_report\n",
    "from sklearn.linear_model import LogisticRegression\n",
    "from sklearn.svm import SVC\n",
    "import pandas as pd\n",
    "import random\n",
    "\n",
    "\n",
    "\n",
    "data = load_breast_cancer()\n",
    "X = data.data\n",
    "y = data.target\n",
    "\n",
    "X_train, X_test, y_train, y_test = train_test_split(X, y, test_size=0.2, random_state=42)\n"
   ],
   "metadata": {
    "collapsed": false,
    "ExecuteTime": {
     "end_time": "2023-12-08T10:19:03.973860900Z",
     "start_time": "2023-12-08T10:19:03.944257600Z"
    }
   },
   "id": "initial_id"
  },
  {
   "cell_type": "markdown",
   "source": [
    "# Перекрестная проверка\n",
    "Создание модели логистической регрессии(logreg)\n",
    "Выводим результат \n",
    "\n"
   ],
   "metadata": {
    "collapsed": false
   },
   "id": "9aaccfcb5e98367a"
  },
  {
   "cell_type": "code",
   "execution_count": 23,
   "outputs": [
    {
     "name": "stdout",
     "output_type": "stream",
     "text": [
      "Cross-validation scores: [0.98245614 0.98245614 0.97368421 0.97368421 0.99115044]\n",
      "Average accuracy: 0.9806862288464524\n"
     ]
    }
   ],
   "source": [
    "scaler = StandardScaler()\n",
    "X_scaled = scaler.fit_transform(X)\n",
    "\n",
    "logreg = LogisticRegression(max_iter=1000)\n",
    "scores = cross_val_score(logreg, X_scaled, y, cv=5)\n",
    "print(\"Cross-validation scores:\", scores)\n",
    "print(\"Average accuracy:\", scores.mean())"
   ],
   "metadata": {
    "collapsed": false,
    "ExecuteTime": {
     "end_time": "2023-12-08T10:19:05.570529900Z",
     "start_time": "2023-12-08T10:19:05.474451800Z"
    }
   },
   "id": "a54fc5a6b2bc0766"
  },
  {
   "cell_type": "markdown",
   "source": [
    "# Решетчатый поиск\n",
    "Выводим размеры обучающих и тестовых наборов\n",
    "Поиск наилучших параметров с использованием вложенных циклов\n",
    "Выводим результат "
   ],
   "metadata": {
    "collapsed": false
   },
   "id": "493ac0252e79e051"
  },
  {
   "cell_type": "markdown",
   "source": [],
   "metadata": {
    "collapsed": false
   },
   "id": "5f091a53eb562df9"
  },
  {
   "cell_type": "code",
   "execution_count": 24,
   "outputs": [
    {
     "name": "stdout",
     "output_type": "stream",
     "text": [
      "Размер обучающего набора: 455, размер тестового набора: 114\n",
      "Наилучшее значение правильности: 0.93\n",
      "Наилучшие значения параметров: {'C': 1, 'gamma': 0.001}\n"
     ]
    }
   ],
   "source": [
    "print(\"Размер обучающего набора: {}, размер тестового набора: {}\".format(X_train.shape[0], X_test.shape[0]))\n",
    "\n",
    "best_score = 0\n",
    "best_parameters = {'C': None, 'gamma': None}\n",
    "\n",
    "for gamma in [0.001, 0.01, 0.1, 1, 10, 100]:\n",
    "    for C in [0.001, 0.01, 0.1, 1, 10, 100]:\n",
    "        svm = SVC(gamma=gamma, C=C)\n",
    "        svm.fit(X_train, y_train)\n",
    "        score = svm.score(X_test, y_test)\n",
    "        if score > best_score:\n",
    "            best_score = score\n",
    "            best_parameters = {'C': C, 'gamma': gamma}\n",
    "print(\"Наилучшее значение правильности: {:.2f}\".format(best_score))\n",
    "print(\"Наилучшие значения параметров: {}\".format(best_parameters))\n"
   ],
   "metadata": {
    "collapsed": false,
    "ExecuteTime": {
     "end_time": "2023-12-08T10:19:07.811645700Z",
     "start_time": "2023-12-08T10:19:07.241096200Z"
    }
   },
   "id": "e5a45d2ae1832f0f"
  },
  {
   "cell_type": "markdown",
   "source": [
    "##### В данном коде модель обучается на обучающем наборе, а затем тестируется на тестовом наборе.\n",
    "##### Мы модем преобразовать этот код так чтобы после обучения модели на обучающем наборе, параметры модели настраивались на проверочном наборе, а затем окончательное тестирование пройдет на тестовом наборе. Этот подход может быть более эффективным при выборе оптимальных параметров модели."
   ],
   "metadata": {
    "collapsed": false
   },
   "id": "a7c0c8f95b348295"
  },
  {
   "cell_type": "code",
   "execution_count": 25,
   "outputs": [
    {
     "name": "stdout",
     "output_type": "stream",
     "text": [
      "Размер обучающего набора: 319 размер проверочного набора: 107 размер тестового набора: 143\n",
      "Лучшее значение правильности на проверочном наборе: 0.94\n",
      "Наилучшие значения параметров:  {'C': 1, 'gamma': 0.001}\n",
      "Правильность на тестовом наборе с наилучшими параметрами: 0.93\n"
     ]
    }
   ],
   "source": [
    "X_trainval, X_test, y_trainval, y_test = train_test_split(data.data, data.target, random_state=0)\n",
    "X_train, X_valid, y_train, y_valid = train_test_split(X_trainval, y_trainval, random_state=1)\n",
    "\n",
    "print(\"Размер обучающего набора: {} размер проверочного набора: {} размер тестового набора: {}\\n\".format(X_train.shape[0], X_valid.shape[0], X_test.shape[0]))\n",
    "\n",
    "best_score = 0\n",
    "for gamma in [0.001, 0.01, 0.1, 1, 10, 100]:\n",
    "    for C in [0.001, 0.01, 0.1, 1, 10, 100]:\n",
    "        svm = SVC(gamma=gamma, C=C)\n",
    "        svm.fit(X_train, y_train)\n",
    "        score = svm.score(X_valid, y_valid)\n",
    "        if score > best_score:\n",
    "            best_score = score\n",
    "            best_parameters = {'C': C, 'gamma': gamma}\n",
    "\n",
    "svm = SVC(**best_parameters)\n",
    "svm.fit(X_trainval, y_trainval)\n",
    "test_score = svm.score(X_test, y_test)\n",
    "\n",
    "print(\"Лучшее значение правильности на проверочном наборе: {:.2f}\".format(best_score))\n",
    "print(\"Наилучшие значения параметров: \", best_parameters)\n",
    "print(\"Правильность на тестовом наборе с наилучшими параметрами: {:.2f}\".format(test_score))\n"
   ],
   "metadata": {
    "collapsed": false,
    "ExecuteTime": {
     "end_time": "2023-12-08T10:19:08.540868300Z",
     "start_time": "2023-12-08T10:19:08.210179700Z"
    }
   },
   "id": "fa0b9f240b504c4a"
  },
  {
   "cell_type": "markdown",
   "source": [
    "# Метрики качества моделей и их вычисление\n",
    "Далее мы применим 2 классификатора(DummyClassifier и DecisionTreeClassifier)для предсказания меток на тестовом наборе данных.\n",
    "**DummyClassifier** используется в качестве простого базового сравнения, предсказывая наиболее часто встречающуюся метку. Это полезно для установления базового уровня производительности модели. \n",
    " **DecisionTreeClassifier** строит модель решающего дерева с ограниченной глубиной, учитывая более сложные зависимости между признаками и метками.\n"
   ],
   "metadata": {
    "collapsed": false
   },
   "id": "f6c10157aef06861"
  },
  {
   "cell_type": "code",
   "execution_count": 26,
   "outputs": [
    {
     "name": "stdout",
     "output_type": "stream",
     "text": [
      "Уникальные спрогнозированные метки: [1]\n",
      "Правильность на тестовом наборе: 0.63\n"
     ]
    }
   ],
   "source": [
    "from sklearn. dummy import DummyClassifier\n",
    "import numpy as np\n",
    "dummy_majority = DummyClassifier(strategy='most_frequent').fit(X_train, y_train)\n",
    "pred_most_frequent = dummy_majority.predict(X_test)\n",
    "print(\"Уникальные спрогнозированные метки: {}\". format(np. unique (pred_most_frequent)))\n",
    "print (\"Правильность на тестовом наборе: {:.2f}\". format (dummy_majority. score(X_test, y_test)))"
   ],
   "metadata": {
    "collapsed": false,
    "ExecuteTime": {
     "end_time": "2023-12-08T10:19:09.402646200Z",
     "start_time": "2023-12-08T10:19:09.402646200Z"
    }
   },
   "id": "679de38271b2cb87"
  },
  {
   "cell_type": "code",
   "execution_count": 27,
   "outputs": [
    {
     "name": "stdout",
     "output_type": "stream",
     "text": [
      "Правильность на тестовом наборе: 0.93\n"
     ]
    }
   ],
   "source": [
    "from sklearn.tree import DecisionTreeClassifier\n",
    "tree = DecisionTreeClassifier (max_depth=2). fit(X_train, y_train)\n",
    "pred_tree = tree. predict (X_test)\n",
    "print(\"Правильность на тестовом наборе: {:.2f}\". format (tree.score(X_test, y_test)))"
   ],
   "metadata": {
    "collapsed": false,
    "ExecuteTime": {
     "end_time": "2023-12-08T10:19:09.956323400Z",
     "start_time": "2023-12-08T10:19:09.934124800Z"
    }
   },
   "id": "9860e995697e78fe"
  },
  {
   "cell_type": "markdown",
   "source": [
    "#### Используя библиотеки pandas и random мы сгенерируем случайные данные ( 1.зарплата 2.город проживания 3.возраст 4.предпочтение отпуска 5.предпочтение транспорта 6. город, в котором человек хочет провести отпуск)"
   ],
   "metadata": {
    "collapsed": false
   },
   "id": "6727d6760030156f"
  },
  {
   "cell_type": "code",
   "execution_count": 34,
   "outputs": [],
   "source": [
    "random.seed(42)\n",
    "\n",
    "data = {\n",
    "    'salary': [random.randint(10000, 100000) for i in range(1000)],\n",
    "    'city': [random.choice(['Bishkek', 'Seoul', 'Naryn']) for i in range(1000)],\n",
    "    'age': [random.randint(30, 65) for i in range(1000)],\n",
    "    'vacation_prefer': [random.choice(['Beach', 'Mountains']) for i in range(1000)],\n",
    "    'transport_prefer': [random.choice(['auto', 'plane']) for i in range(1000)],\n",
    "    'target': [random.choice(['Paris', 'LA', 'Tokio']) for i in range(1000)]\n",
    "}\n",
    "\n",
    "df = pd.DataFrame(data)\n"
   ],
   "metadata": {
    "collapsed": false,
    "ExecuteTime": {
     "end_time": "2023-12-08T10:23:50.132602Z",
     "start_time": "2023-12-08T10:23:50.100911500Z"
    }
   },
   "id": "37362c3a688e0fed"
  },
  {
   "cell_type": "markdown",
   "source": [
    "#### Преобразовываем категориальных данных в числовые используя pd.get_dummies"
   ],
   "metadata": {
    "collapsed": false
   },
   "id": "cf128b43840d2892"
  },
  {
   "cell_type": "code",
   "execution_count": 35,
   "outputs": [],
   "source": [
    "df_encoded = pd.get_dummies(df, columns=['city', 'vacation_prefer', 'transport_prefer'], drop_first=True)"
   ],
   "metadata": {
    "collapsed": false,
    "ExecuteTime": {
     "end_time": "2023-12-08T10:23:52.244286300Z",
     "start_time": "2023-12-08T10:23:52.213434900Z"
    }
   },
   "id": "b0bfc90cd1992eaf"
  },
  {
   "cell_type": "markdown",
   "source": [
    "####  Разделение данных на обучающую и тестовую выборки"
   ],
   "metadata": {
    "collapsed": false
   },
   "id": "f4239af95e803323"
  },
  {
   "cell_type": "code",
   "execution_count": 36,
   "outputs": [],
   "source": [
    "from sklearn.model_selection import train_test_split\n",
    "X = df_encoded.drop('target', axis=1)\n",
    "y = df_encoded['target']\n",
    "X_train, X_test, y_train, y_test = train_test_split(X, y, test_size=0.2, random_state=42)\n"
   ],
   "metadata": {
    "collapsed": false,
    "ExecuteTime": {
     "end_time": "2023-12-08T10:23:55.737592200Z",
     "start_time": "2023-12-08T10:23:55.703677700Z"
    }
   },
   "id": "3ad64891b347a903"
  },
  {
   "cell_type": "markdown",
   "source": [
    " #### Создаем экземпляр RandomForestClassifier, и обучаем ее на обучающей выборке с использованием метода fit\n",
    "  #### Выводим результат"
   ],
   "metadata": {
    "collapsed": false
   },
   "id": "ea91dc9a8f1269d2"
  },
  {
   "cell_type": "code",
   "execution_count": 37,
   "outputs": [
    {
     "name": "stdout",
     "output_type": "stream",
     "text": [
      "Accuracy: 0.42\n",
      "Classification Report:\n",
      "               precision    recall  f1-score   support\n",
      "\n",
      "          LA       0.41      0.41      0.41        68\n",
      "       Paris       0.48      0.43      0.45        67\n",
      "       Tokio       0.40      0.43      0.41        65\n",
      "\n",
      "    accuracy                           0.42       200\n",
      "   macro avg       0.43      0.43      0.43       200\n",
      "weighted avg       0.43      0.42      0.43       200\n"
     ]
    }
   ],
   "source": [
    "from sklearn.ensemble import RandomForestClassifier\n",
    "from sklearn.metrics import accuracy_score, classification_report\n",
    "\n",
    "model = RandomForestClassifier(random_state=42)\n",
    "model.fit(X_train, y_train)\n",
    "\n",
    "y_pred = model.predict(X_test)\n",
    "\n",
    "accuracy = accuracy_score(y_test, y_pred)\n",
    "report = classification_report(y_test, y_pred)\n",
    "\n",
    "print(f'Accuracy: {accuracy:.2f}')\n",
    "print('Classification Report:\\n', report)\n"
   ],
   "metadata": {
    "collapsed": false,
    "ExecuteTime": {
     "end_time": "2023-12-08T10:23:58.236094500Z",
     "start_time": "2023-12-08T10:23:57.991789900Z"
    }
   },
   "id": "ef2b4909019df90e"
  },
  {
   "cell_type": "markdown",
   "source": [
    "#### Визуализируем данные"
   ],
   "metadata": {
    "collapsed": false
   },
   "id": "606d6ccdbfd8eed"
  },
  {
   "cell_type": "code",
   "execution_count": 38,
   "outputs": [
    {
     "data": {
      "text/plain": "<Figure size 1000x600 with 1 Axes>",
      "image/png": "[encoded data removed]"
     },
     "metadata": {},
     "output_type": "display_data"
    }
   ],
   "source": [
    "import matplotlib.pyplot as plt\n",
    "\n",
    "# Визуализация важности признаков\n",
    "feature_importance = model.feature_importances_\n",
    "features = X_train.columns\n",
    "indices = sorted(range(len(feature_importance)), key=lambda k: feature_importance[k])\n",
    "\n",
    "plt.figure(figsize=(10, 6))\n",
    "plt.barh(range(len(feature_importance)), feature_importance[indices], align='center')\n",
    "plt.yticks(range(len(feature_importance)), [features[i] for i in indices])\n",
    "plt.xlabel('Feature Importance')\n",
    "plt.title('Random Forest Feature Importance')\n",
    "plt.show()\n"
   ],
   "metadata": {
    "collapsed": false,
    "ExecuteTime": {
     "end_time": "2023-12-08T10:24:02.735416600Z",
     "start_time": "2023-12-08T10:24:02.649138500Z"
    }
   },
   "id": "d0cba3ac045eea84"
  },
  {
   "cell_type": "code",
   "execution_count": null,
   "outputs": [],
   "source": [],
   "metadata": {
    "collapsed": false
   },
   "id": "aaa4e9768acdccac"
  }
 ],
 "metadata": {
  "kernelspec": {
   "display_name": "Python 3",
   "language": "python",
   "name": "python3"
  },
  "language_info": {
   "codemirror_mode": {
    "name": "ipython",
    "version": 2
   },
   "file_extension": ".py",
   "mimetype": "text/x-python",
   "name": "python",
   "nbconvert_exporter": "python",
   "pygments_lexer": "ipython2",
   "version": "2.7.6"
  }
 },
 "nbformat": 4,
 "nbformat_minor": 5
}
